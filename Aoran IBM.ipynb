{
 "cells": [
  {
   "cell_type": "markdown",
   "id": "beca5ab2-5a19-4e4d-bda3-6b80b4675478",
   "metadata": {
    "tags": []
   },
   "source": [
    "# My Jupyter Notebook on IBM Watson Studio"
   ]
  },
  {
   "cell_type": "markdown",
   "id": "97c94e52-b0e5-4071-83c2-bcd842864007",
   "metadata": {},
   "source": [
    "**Aoran Wang**\n",
    "Data scientist"
   ]
  },
  {
   "cell_type": "markdown",
   "id": "39b4127c-6ed4-48d0-857a-d1158af33e5b",
   "metadata": {},
   "source": [
    " *I am interested in data science because it is very challenging.*"
   ]
  },
  {
   "cell_type": "markdown",
   "id": "805d3321-b37e-44a6-a827-e5ca02fef3d2",
   "metadata": {},
   "source": [
    "### A simple function that will return the text with your designed number of \"!\""
   ]
  },
  {
   "cell_type": "code",
   "execution_count": 1,
   "id": "e9226f56-4aee-4259-9094-e685cdaa2f81",
   "metadata": {},
   "outputs": [
    {
     "name": "stdout",
     "output_type": "stream",
     "text": [
      "hello!!!!!\n"
     ]
    }
   ],
   "source": [
    "def text_changer (text, num):\n",
    "    new_text = text + num*'!'\n",
    "    print(new_text)\n",
    "    \n",
    "text_changer('hello', 5 )"
   ]
  },
  {
   "cell_type": "markdown",
   "id": "d13c2b7f-a26b-435c-88cd-683b98b2c298",
   "metadata": {},
   "source": [
    "* Strong \n",
    "* Independent\n",
    "* Man"
   ]
  }
 ],
 "metadata": {
  "kernelspec": {
   "display_name": "Python 3 (ipykernel)",
   "language": "python",
   "name": "python3"
  },
  "language_info": {
   "codemirror_mode": {
    "name": "ipython",
    "version": 3
   },
   "file_extension": ".py",
   "mimetype": "text/x-python",
   "name": "python",
   "nbconvert_exporter": "python",
   "pygments_lexer": "ipython3",
   "version": "3.9.12"
  }
 },
 "nbformat": 4,
 "nbformat_minor": 5
}
